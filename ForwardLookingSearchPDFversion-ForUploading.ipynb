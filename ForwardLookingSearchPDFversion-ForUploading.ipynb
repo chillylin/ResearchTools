{
 "cells": [
  {
   "cell_type": "code",
   "execution_count": null,
   "metadata": {},
   "outputs": [],
   "source": [
    "!pip install PyMuPDF"
   ]
  },
  {
   "cell_type": "code",
   "execution_count": null,
   "metadata": {},
   "outputs": [],
   "source": [
    "# set filename here \n",
    "csvfilename = \"Forwardlookinginfo.csv\"\n"
   ]
  },
  {
   "cell_type": "code",
   "execution_count": null,
   "metadata": {},
   "outputs": [],
   "source": [
    "import os\n",
    "import re\n",
    "import fitz \n",
    "import pandas as pd"
   ]
  },
  {
   "cell_type": "code",
   "execution_count": null,
   "metadata": {},
   "outputs": [],
   "source": [
    "#!pip install striprtf"
   ]
  },
  {
   "cell_type": "markdown",
   "metadata": {},
   "source": [
    "# Read keyword files and build lists of keywords"
   ]
  },
  {
   "cell_type": "code",
   "execution_count": null,
   "metadata": {},
   "outputs": [],
   "source": [
    "keyworddf = pd.read_csv('keywordfileneverdeleteit.csv')\n",
    "\n",
    "# Example for two types of keywords with case-sentivity \n",
    "\n",
    "type1caseinsensitive = keyworddf[(keyworddf['Step']==1)&(keyworddf['Type']=='1')&(\n",
    "    keyworddf['Casesensitivity']==0)]['Keywords'].to_list()\n",
    "type1casesensitive = keyworddf[(keyworddf['Step']==1)&(keyworddf['Type']=='1')&(\n",
    "    keyworddf['Casesensitivity']==1)]['Keywords'].to_list()\n",
    "\n",
    "\n",
    "type2caseinsensitive = keyworddf[(keyworddf['Step']==1)&(keyworddf['Type']=='2')&(\n",
    "    keyworddf['Casesensitivity']==0)]['Keywords'].to_list()\n",
    "type2casesensitive = keyworddf[(keyworddf['Step']==1)&(keyworddf['Type']=='2')&(\n",
    "    keyworddf['Casesensitivity']==1)]['Keywords'].to_list()\n",
    "\n",
    "#step2\n",
    "typeOperationSensitive = keyworddf[(keyworddf['Step']==2)&(keyworddf['Type']=='Operation')&(\n",
    "    keyworddf['Casesensitivity']==0)]['Keywords'].to_list()\n",
    "typeOperationInsensitive = keyworddf[(keyworddf['Step']==2)&(keyworddf['Type']=='Operation')&(\n",
    "    keyworddf['Casesensitivity']==1)]['Keywords'].to_list()\n",
    "\n",
    "typeFinanceSensitive = keyworddf[(keyworddf['Step']==2)&(keyworddf['Type']=='Finance')&(\n",
    "    keyworddf['Casesensitivity']==0)]['Keywords'].to_list()\n",
    "typeFinanceInsensitive = keyworddf[(keyworddf['Step']==2)&(keyworddf['Type']=='Finance')&(\n",
    "    keyworddf['Casesensitivity']==1)]['Keywords'].to_list()\n",
    "\n",
    "typeAccountingSensitive = keyworddf[(keyworddf['Step']==2)&(keyworddf['Type']=='Accounting')&(\n",
    "    keyworddf['Casesensitivity']==0)]['Keywords'].to_list()\n",
    "typeAccountingInsensitive = keyworddf[(keyworddf['Step']==2)&(keyworddf['Type']=='Accounting')&(\n",
    "    keyworddf['Casesensitivity']==1)]['Keywords'].to_list()\n"
   ]
  },
  {
   "cell_type": "code",
   "execution_count": null,
   "metadata": {},
   "outputs": [],
   "source": [
    "def step1(sentences,year):\n",
    "    \n",
    "    matchingsentences = []\n",
    "\n",
    "    for sentence in sentences:\n",
    "\n",
    "        text = sentence\n",
    "\n",
    "        # type 1\n",
    "        for keyword in type1caseinsensitive:\n",
    "            if re.search('(^| )'+keyword+r'($|\\.| )',text,\n",
    "                       re.I) !=None:\n",
    "                matchingsentences.append({'Step':1,'Type':1,'Keyword':keyword,'Sentence':text})\n",
    "        \n",
    "        for keyword in type1casesensitive:\n",
    "            if re.search('(^| )'+keyword+r'($|\\.| )',text\n",
    "                       ) !=None:\n",
    "                matchingsentences.append({'Step':1,'Type':1,'Keyword':keyword,'Sentence':text})\n",
    "        # type 2\n",
    "        for keyword in type2caseinsensitive:\n",
    "            if re.search('(^| )'+keyword+r'($|\\.| )',text,\n",
    "                       re.I) !=None:\n",
    "                matchingsentences.append({'Step':1,'Type':2,'Keyword':keyword,'Sentence':text})\n",
    "\n",
    "        for keyword in type2casesensitive:\n",
    "            if re.search('(^| )'+keyword+r'($|\\.| )',text\n",
    "                       ) !=None:\n",
    "                matchingsentences.append({'Step':1,'Type':2,'Keyword':keyword,'Sentence':text})\n",
    "        \n",
    "        # type 3       \n",
    "        if re.search('(^| )'+year+r'($|\\.| )',text,\n",
    "                   re.I) !=None:\n",
    "            matchingsentences.append({'Step':1,'Type':3,'Keyword':keyword,'Sentence':text})\n",
    "            \n",
    "    \n",
    "    return pd.DataFrame(matchingsentences)"
   ]
  },
  {
   "cell_type": "code",
   "execution_count": null,
   "metadata": {},
   "outputs": [],
   "source": [
    "def step2(sentences):\n",
    "    \n",
    "\n",
    "    matchingsentences = []\n",
    "    \n",
    "    caught = 0\n",
    "\n",
    "    for text in sentences:\n",
    "\n",
    "        for keyword in typeOperationSensitive:\n",
    "            if re.search('(^| )'+keyword+r'($|\\.| )',text,\n",
    "                       re.I) !=None:\n",
    "                matchingsentences.append({'Step':2,'Type':'Operation','Keyword':keyword,'Sentence':text})\n",
    "                caught = 1\n",
    "\n",
    "        for keyword in typeOperationInsensitive:\n",
    "            if re.search('(^| )'+keyword+r'($|\\.| )',text\n",
    "                       ) !=None:\n",
    "                matchingsentences.append({'Step':2,'Type':'Operation','Keyword':keyword,'Sentence':text})\n",
    "                caught = 1\n",
    "\n",
    "        for keyword in typeFinanceSensitive:\n",
    "            if re.search('(^| )'+keyword+r'($|\\.| )',text,\n",
    "                       re.I) !=None:\n",
    "                matchingsentences.append({'Step':2,'Type':'Finance','Keyword':keyword,'Sentence':text})\n",
    "                caught = 1\n",
    "\n",
    "        for keyword in typeFinanceInsensitive:\n",
    "            if re.search('(^| )'+keyword+r'($|\\.| )',text\n",
    "                       ) !=None:\n",
    "                matchingsentences.append({'Step':2,'Type':'Finance','Keyword':keyword,'Sentence':text})\n",
    "                caught = 1\n",
    "\n",
    "        for keyword in typeAccountingSensitive:\n",
    "            if re.search('(^| )'+keyword+r'($|\\.| )',text,\n",
    "                       re.I) !=None:\n",
    "                matchingsentences.append({'Step':2,'Type':'Accounting','Keyword':keyword,'Sentence':text})\n",
    "                caught = 1\n",
    "\n",
    "        for keyword in typeAccountingInsensitive:\n",
    "            if re.search('(^| )'+keyword+r'($|\\.| )',text\n",
    "                       ) !=None:\n",
    "                matchingsentences.append({'Step':2,'Type':'Accounting','Keyword':keyword,'Sentence':text})\n",
    "                caught = 1\n",
    "                \n",
    "        if caught == 0:\n",
    "            matchingsentences.append({'Step':2,'Type':'NoMatch','Keyword':keyword,'Sentence':text})\n",
    "                \n",
    "        \n",
    "    return pd.DataFrame(matchingsentences)"
   ]
  },
  {
   "cell_type": "code",
   "execution_count": null,
   "metadata": {},
   "outputs": [],
   "source": []
  },
  {
   "cell_type": "markdown",
   "metadata": {},
   "source": [
    "# Read directory and find all RTFs"
   ]
  },
  {
   "cell_type": "code",
   "execution_count": null,
   "metadata": {},
   "outputs": [],
   "source": [
    "# This cell takes time. Wait untile the * change to a number\n",
    "\n",
    "dfs = []\n",
    "for foldername in os.listdir():\n",
    "    foldercounter = 0\n",
    "    if '.' in foldername:\n",
    "        continue\n",
    "    else:\n",
    "        for pdffile in os.listdir('./'+foldername):\n",
    "            \n",
    "            if pdffile[-3:]=='pdf':\n",
    "                \n",
    "                doc = fitz.open('./'+foldername+'/'+pdffile)\n",
    "                sentences = []\n",
    "                for i in range(doc.pageCount):\n",
    "                    sentences += re.split(r\"\\. \", doc.getPageText(i))\n",
    "\n",
    "                result = pd.concat([\n",
    "                    step1(sentences,str(int(re.findall(\"(20[0-9][0-9])\",pdffile)[0])+1)),\n",
    "                    step2(sentences)])\n",
    "                result['Company']= foldername\n",
    "                result['Report'] = pdffile\n",
    "                dfs.append(result)\n",
    "#                print (foldername+'/'+rtffile+' has been processed')\n",
    "                foldercounter+=1\n",
    "        print (foldername+' has been processed. In total: ' + str(foldercounter)+' files')\n"
   ]
  },
  {
   "cell_type": "code",
   "execution_count": null,
   "metadata": {},
   "outputs": [],
   "source": [
    "pd.concat(dfs).to_csv(csvfilename, index = False)"
   ]
  },
  {
   "cell_type": "code",
   "execution_count": null,
   "metadata": {},
   "outputs": [],
   "source": []
  }
 ],
 "metadata": {
  "kernelspec": {
   "display_name": "Python 3",
   "language": "python",
   "name": "python3"
  },
  "language_info": {
   "codemirror_mode": {
    "name": "ipython",
    "version": 3
   },
   "file_extension": ".py",
   "mimetype": "text/x-python",
   "name": "python",
   "nbconvert_exporter": "python",
   "pygments_lexer": "ipython3",
   "version": "3.8.3"
  }
 },
 "nbformat": 4,
 "nbformat_minor": 2
}
